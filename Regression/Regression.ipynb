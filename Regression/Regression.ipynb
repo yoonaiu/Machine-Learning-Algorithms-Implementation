{
 "cells": [
  {
   "cell_type": "markdown",
   "metadata": {},
   "source": [
    "## HW1: Logistic regression and Linear Regression using Gradient Descent\n",
    "In hw1, you need to implement linear regression by using only numpy, then train your implemented model by the provided dataset and test the performance with testing data\n",
    "\n",
    "Please note that only **NUMPY** can be used to implement your model, you will get no points by simply calling sklearn.linear_model.LinearRegression"
   ]
  },
  {
   "cell_type": "code",
   "execution_count": 2,
   "metadata": {},
   "outputs": [],
   "source": [
    "import numpy as np \n",
    "import pandas as pd\n",
    "import matplotlib.pyplot as plt\n",
    "import math"
   ]
  },
  {
   "cell_type": "markdown",
   "metadata": {},
   "source": [
    "# Part 1. Linear regression model"
   ]
  },
  {
   "cell_type": "markdown",
   "metadata": {},
   "source": [
    "## Load regression data"
   ]
  },
  {
   "cell_type": "code",
   "execution_count": 58,
   "metadata": {},
   "outputs": [],
   "source": [
    "x_train, x_test, y_train, y_test = np.load('regression_data.npy', allow_pickle=True)"
   ]
  },
  {
   "cell_type": "code",
   "execution_count": 59,
   "metadata": {},
   "outputs": [
    {
     "data": {
      "text/plain": [
       "[<matplotlib.lines.Line2D at 0x280070af0>]"
      ]
     },
     "execution_count": 59,
     "metadata": {},
     "output_type": "execute_result"
    },
    {
     "data": {
      "image/png": "[encoded data removed]",
      "text/plain": [
       "<Figure size 432x288 with 1 Axes>"
      ]
     },
     "metadata": {
      "needs_background": "light"
     },
     "output_type": "display_data"
    }
   ],
   "source": [
    "plt.plot(x_train, y_train, '.')"
   ]
  },
  {
   "cell_type": "code",
   "execution_count": 7,
   "metadata": {},
   "outputs": [
    {
     "name": "stdout",
     "output_type": "stream",
     "text": [
      "(750, 1)\n",
      "(750,)\n",
      "(250, 1)\n",
      "(250, 1)\n"
     ]
    }
   ],
   "source": [
    "print(x_train.shape)\n",
    "print(y_train.shape) # different shape -> need to correct before using numpy\n",
    "\n",
    "print(x_test.shape)\n",
    "print(x_test.shape)"
   ]
  },
  {
   "cell_type": "markdown",
   "metadata": {},
   "source": [
    "## Train your model \n",
    "### Pseudo code:\n",
    "1. Random initialize the weights, intercepts of the linear model\n",
    "\n",
    "**for i in range(iteration)**\n",
    "\n",
    "    2. Feed foward the training data into the model, get the output prediction\n",
    "    3. Calculating training loss by Mean Square Error of predcition and ground truth data\n",
    "    4. Calculating the gradients\n",
    "    5. Updating the weights and intercepts by the gradients * learning rate \n",
    "    \n",
    "**End of training**"
   ]
  },
  {
   "cell_type": "code",
   "execution_count": 8,
   "metadata": {},
   "outputs": [],
   "source": [
    "n = len(x_train)  # data number\n",
    "m = 0  # slope\n",
    "c = 0  # intercept\n",
    "\n",
    "L = 0.05  # learning rate\n",
    "epochs = 100  # training times"
   ]
  },
  {
   "cell_type": "code",
   "execution_count": 9,
   "metadata": {},
   "outputs": [],
   "source": [
    "def linear_model(x_test: np.array,\n",
    "                 m: float,\n",
    "                 c: float) -> np.array:\n",
    "    return x_test * m + c"
   ]
  },
  {
   "cell_type": "code",
   "execution_count": 10,
   "metadata": {},
   "outputs": [],
   "source": [
    "def Mean_square_error(n: int,\n",
    "                      y_test: float,\n",
    "                      y_pred: float) -> float:\n",
    "    result = 0\n",
    "    for i in range(n):\n",
    "        result += (y_test[i] - y_pred[i]) * (y_test[i] - y_pred[i])\n",
    "    \n",
    "    return 1/n * result "
   ]
  },
  {
   "cell_type": "code",
   "execution_count": 11,
   "metadata": {},
   "outputs": [],
   "source": [
    "# Self written functions to calculate partial derivative one by one,\n",
    "# since python calculate seems to be wrong.\n",
    "\n",
    "def m_partial_derivative(n: int,\n",
    "                         x_train: np.array,\n",
    "                         y_train: np.array,\n",
    "                         y_predict: np.array) -> float:\n",
    "    result = 0\n",
    "    for i in range (n):\n",
    "        result += x_train[i] * (y_train[i] - y_predict[i])\n",
    "\n",
    "    return result * -2 / float(n)\n",
    "\n",
    "def c_partial_derivative(n: int,\n",
    "                         y_train: np.array,\n",
    "                         y_predict: np.array) -> float:\n",
    "    result = 0\n",
    "    for i in range (n):\n",
    "        result += y_train[i] - y_predict[i]\n",
    "\n",
    "    return result * -2 / float(n)\n"
   ]
  },
  {
   "cell_type": "code",
   "execution_count": 12,
   "metadata": {},
   "outputs": [],
   "source": [
    "epochs_list = []\n",
    "# error_list = []\n",
    "training_loss = []\n",
    "validation_loss = []"
   ]
  },
  {
   "cell_type": "code",
   "execution_count": 13,
   "metadata": {},
   "outputs": [],
   "source": [
    "\n",
    "for i in range (epochs):\n",
    "    y_predict = m * x_train + c\n",
    "    m_pd = m_partial_derivative(n, x_train, y_train, y_predict)\n",
    "    c_pd = c_partial_derivative(n, y_train, y_predict)\n",
    "\n",
    "    m = m - L * m_pd\n",
    "    c = c - L * c_pd\n",
    "\n",
    "    epochs_list.append(i)\n",
    "    training_loss.append(Mean_square_error(len(y_train), y_train, linear_model(x_train, m, c)))\n",
    "    validation_loss.append(Mean_square_error(len(y_test), y_test, linear_model(x_test, m, c)))\n",
    "    # error_list.append(Mean_square_error(n, y_train, your_model(x_train, m, c)))"
   ]
  },
  {
   "cell_type": "markdown",
   "metadata": {},
   "source": [
    "### Q1-3 Weights and Intercepts"
   ]
  },
  {
   "cell_type": "code",
   "execution_count": 14,
   "metadata": {},
   "outputs": [
    {
     "name": "stdout",
     "output_type": "stream",
     "text": [
      "weights m:\t [52.74049025]\n",
      "intercepts c:\t [-0.33421033]\n"
     ]
    }
   ],
   "source": [
    "print(\"weights m:\\t\", m)\n",
    "print(\"intercepts c:\\t\", c)"
   ]
  },
  {
   "cell_type": "markdown",
   "metadata": {},
   "source": [
    "### Q1-1 Learning Curve\n"
   ]
  },
  {
   "cell_type": "code",
   "execution_count": 23,
   "metadata": {},
   "outputs": [
    {
     "data": {
      "text/plain": [
       "<matplotlib.legend.Legend at 0x128aa2250>"
      ]
     },
     "execution_count": 23,
     "metadata": {},
     "output_type": "execute_result"
    },
    {
     "data": {
      "image/png": "[encoded data removed]",
      "text/plain": [
       "<Figure size 432x288 with 1 Axes>"
      ]
     },
     "metadata": {
      "needs_background": "light"
     },
     "output_type": "display_data"
    }
   ],
   "source": [
    "plt.title('Learning Curve')\n",
    "\n",
    "plt.xlabel('Iterations')\n",
    "plt.ylabel('Loss')\n",
    "\n",
    "plt.plot(epochs_list, training_loss, label = 'Training Loss', color='blue')\n",
    "plt.plot(epochs_list, validation_loss, label = 'Validation Loss', color='orange')\n",
    "\n",
    "# plt.show()\n",
    "plt.legend()"
   ]
  },
  {
   "cell_type": "code",
   "execution_count": 16,
   "metadata": {},
   "outputs": [
    {
     "data": {
      "text/plain": [
       "[<matplotlib.lines.Line2D at 0x12884f610>]"
      ]
     },
     "execution_count": 16,
     "metadata": {},
     "output_type": "execute_result"
    },
    {
     "data": {
      "image/png": "[encoded data removed]",
      "text/plain": [
       "<Figure size 432x288 with 1 Axes>"
      ]
     },
     "metadata": {
      "needs_background": "light"
     },
     "output_type": "display_data"
    }
   ],
   "source": [
    "y_pred_from_train = linear_model(x_train, m, c)\n",
    "y_pred_from_test = linear_model(x_test, m, c)\n",
    "\n",
    "\n",
    "plt.plot(x_train, y_train, '.', color=\"blue\")\n",
    "plt.plot(x_train, y_pred_from_train, '.', color=\"orange\")"
   ]
  },
  {
   "cell_type": "code",
   "execution_count": 17,
   "metadata": {},
   "outputs": [
    {
     "data": {
      "text/plain": [
       "[<matplotlib.lines.Line2D at 0x1288e0cd0>]"
      ]
     },
     "execution_count": 17,
     "metadata": {},
     "output_type": "execute_result"
    },
    {
     "data": {
      "image/png": "[encoded data removed]",
      "text/plain": [
       "<Figure size 432x288 with 1 Axes>"
      ]
     },
     "metadata": {
      "needs_background": "light"
     },
     "output_type": "display_data"
    }
   ],
   "source": [
    "plt.plot(x_test, y_test, '.', color=\"blue\")\n",
    "plt.plot(x_test, y_pred_from_test, '.', color=\"orange\")"
   ]
  },
  {
   "cell_type": "markdown",
   "metadata": {},
   "source": [
    "## Test the performance on the testing data\n",
    "Inference the test data (x_test) by your model and calculate the loss of (y_test, y_pred)"
   ]
  },
  {
   "cell_type": "markdown",
   "metadata": {},
   "source": [
    "### Q1-2 Mean Square Error on Test Set"
   ]
  },
  {
   "cell_type": "code",
   "execution_count": 18,
   "metadata": {},
   "outputs": [
    {
     "name": "stdout",
     "output_type": "stream",
     "text": [
      "[110.42878817]\n"
     ]
    }
   ],
   "source": [
    "print(Mean_square_error(len(y_test), y_test, linear_model(x_test, m, c)))"
   ]
  },
  {
   "cell_type": "markdown",
   "metadata": {},
   "source": [
    "# Part 2. Logistic regreesion model"
   ]
  },
  {
   "cell_type": "markdown",
   "metadata": {},
   "source": [
    "## Load classification data"
   ]
  },
  {
   "cell_type": "code",
   "execution_count": 3,
   "metadata": {},
   "outputs": [],
   "source": [
    "x_train, x_test, y_train, y_test = np.load('classification_data.npy', allow_pickle=True)"
   ]
  },
  {
   "cell_type": "code",
   "execution_count": 4,
   "metadata": {},
   "outputs": [
    {
     "data": {
      "text/plain": [
       "<matplotlib.collections.PathCollection at 0x11ec3a370>"
      ]
     },
     "execution_count": 4,
     "metadata": {},
     "output_type": "execute_result"
    },
    {
     "data": {
      "image/png": "[encoded data removed]",
      "text/plain": [
       "<Figure size 432x288 with 1 Axes>"
      ]
     },
     "metadata": {
      "needs_background": "light"
     },
     "output_type": "display_data"
    }
   ],
   "source": [
    "plt.scatter(x_train, np.ones_like(x_train), c=y_train)"
   ]
  },
  {
   "cell_type": "code",
   "execution_count": 5,
   "metadata": {},
   "outputs": [
    {
     "name": "stdout",
     "output_type": "stream",
     "text": [
      "(750, 1)\n",
      "(750,)\n",
      "(750, 1)\n",
      "(250, 1)\n",
      "(250, 1)\n"
     ]
    }
   ],
   "source": [
    "print(x_train.shape)\n",
    "print(y_train.shape)\n",
    "y_train = y_train.reshape((750, 1))\n",
    "print(y_train.shape)\n",
    "\n",
    "print(x_test.shape)\n",
    "print(x_test.shape)"
   ]
  },
  {
   "cell_type": "raw",
   "metadata": {},
   "source": [
    "## Train your model \n",
    "### Pseudo code:\n",
    "1. Random initialize the weights, intercepts of the linear model\n",
    "\n",
    "**for i in range(iteration)**\n",
    "\n",
    "    2. Feed foward the training data into the model, get the output prediction\n",
    "    3. Calculating training loss by Cross entrooy Error of predcition and ground truth data\n",
    "    4. Calculating the gradients\n",
    "    5. Updating the weights and intercepts by the gradients * learning rate \n",
    "    \n",
    "**End of training**"
   ]
  },
  {
   "cell_type": "markdown",
   "metadata": {},
   "source": [
    "1. prediction function\n",
    "   s-shape curve defined as\n",
    "   p = exp(y) / [1 + exp(y)] = 1 / [1 + exp(-y)]\n",
    "   y = b0 + b1*x\n",
    "   p is the probability of event to occur given x\n",
    "   "
   ]
  },
  {
   "cell_type": "code",
   "execution_count": 6,
   "metadata": {},
   "outputs": [],
   "source": [
    "# y = w0 + w1*x\n",
    "w0 = 0\n",
    "w1 = 0\n",
    "\n",
    "L_2 = 0.05  # learning rate\n",
    "epochs_2 = 3000  # training times"
   ]
  },
  {
   "cell_type": "code",
   "execution_count": 7,
   "metadata": {},
   "outputs": [],
   "source": [
    "def cross_entropy_error(y_prediction, y_train):\n",
    "    sum = 0\n",
    "    for i in range (len(y_train)):\n",
    "        sum += (y_train[i] * np.log(y_prediction[i])) + ((1-y_train[i]) * np.log(1 - y_prediction[i]))\n",
    "\n",
    "    # print(\"error\", -sum/len(y_train))\n",
    "    return -sum/len(y_train)\n",
    "\n",
    "def gradient_of_cross_entropy_error(y_prediction, y_train, x_train):\n",
    "    sum = 0\n",
    "    for i in range (len(y_train)):\n",
    "        sum += (y_prediction[i] - y_train[i]) * x_train[i]\n",
    "\n",
    "    # print(\"gradient\", sum/len(y_train))\n",
    "    return sum/len(y_train)"
   ]
  },
  {
   "cell_type": "code",
   "execution_count": 8,
   "metadata": {},
   "outputs": [],
   "source": [
    "def exponential(y_tmp):\n",
    "    result = []\n",
    "    for i in range (len(y_tmp)):\n",
    "        result.append(math.exp(y_tmp[i]))\n",
    "\n",
    "    return np.array(result)"
   ]
  },
  {
   "cell_type": "code",
   "execution_count": 9,
   "metadata": {},
   "outputs": [],
   "source": [
    "train_error_list_2 = []\n",
    "test_error_list_2 = []\n",
    "epochs_list_2 = []\n",
    "\n",
    "\n",
    "for i in range (epochs_2):\n",
    "    y_tmp = w0 + w1 * x_train\n",
    "    \n",
    "    y_prediction = 1 / (1 + exponential(-y_tmp))  #  * -tmp *\n",
    "\n",
    "    w0 = w0 - L_2 * gradient_of_cross_entropy_error(y_prediction, y_train, np.array(np.full((750), 1)))  # x^0 -> w0\n",
    "    w1 = w1 - L_2 * gradient_of_cross_entropy_error(y_prediction, y_train, x_train)                      # x^1 -> w1\n",
    "\n",
    "    train_error_list_2.append(cross_entropy_error(y_prediction, y_train))\n",
    "    test_error_list_2.append(cross_entropy_error((1 / (1 + exponential(-(w0 + w1 * x_test)))), y_test))\n",
    "    epochs_list_2.append(i)"
   ]
  },
  {
   "cell_type": "markdown",
   "metadata": {},
   "source": [
    "### Q2-2 Cross Entropy Error on Test Set"
   ]
  },
  {
   "cell_type": "code",
   "execution_count": 10,
   "metadata": {},
   "outputs": [
    {
     "name": "stdout",
     "output_type": "stream",
     "text": [
      "0.18141152276625616\n"
     ]
    }
   ],
   "source": [
    "print(cross_entropy_error(1 / (1 + exponential(-(w0 + w1 * x_test))), y_test))"
   ]
  },
  {
   "cell_type": "markdown",
   "metadata": {},
   "source": [
    "### Q2-3 Weights and Intercept"
   ]
  },
  {
   "cell_type": "code",
   "execution_count": 11,
   "metadata": {},
   "outputs": [
    {
     "name": "stdout",
     "output_type": "stream",
     "text": [
      "weights w1 [4.18551601]\n",
      "intercept w0 [1.29283304]\n"
     ]
    }
   ],
   "source": [
    "print(\"weights w1\", w1)\n",
    "print(\"intercept w0\", w0)"
   ]
  },
  {
   "cell_type": "markdown",
   "metadata": {},
   "source": [
    "### Q2-1 Learning Curve"
   ]
  },
  {
   "cell_type": "code",
   "execution_count": 12,
   "metadata": {},
   "outputs": [
    {
     "data": {
      "text/plain": [
       "<matplotlib.legend.Legend at 0x11edafeb0>"
      ]
     },
     "execution_count": 12,
     "metadata": {},
     "output_type": "execute_result"
    },
    {
     "data": {
      "image/png": "[encoded data removed]",
      "text/plain": [
       "<Figure size 432x288 with 1 Axes>"
      ]
     },
     "metadata": {
      "needs_background": "light"
     },
     "output_type": "display_data"
    }
   ],
   "source": [
    "plt.plot(epochs_list_2, train_error_list_2, label = 'Training Error', color='blue')\n",
    "plt.plot(epochs_list_2, test_error_list_2, label = 'Test Error', color='Orange')\n",
    "\n",
    "plt.legend()"
   ]
  },
  {
   "cell_type": "markdown",
   "metadata": {},
   "source": [
    "李鴻毅機器學習: https://blog.csdn.net/weixin_39538889/article/details/99691135"
   ]
  },
  {
   "cell_type": "markdown",
   "metadata": {},
   "source": [
    "### Accuracy"
   ]
  },
  {
   "cell_type": "code",
   "execution_count": 13,
   "metadata": {},
   "outputs": [],
   "source": [
    "y_train_predict = 1 / (1 + exponential(-(w0 + w1 * x_train)))\n",
    "y_test_predict = 1 / (1 + exponential(-(w0 + w1 * x_test)))\n",
    "\n",
    "y_train_predict_result = []\n",
    "y_test_predict_result = []\n",
    "y_train_accuracy = 0\n",
    "y_test_accuracy = 0\n",
    "\n",
    "for i in range (len(y_train_predict)):\n",
    "    if y_train_predict[i] >= 0.5:\n",
    "        y_train_predict_result.append(1)\n",
    "    else:\n",
    "        y_train_predict_result.append(0)\n",
    "    \n",
    "    if y_train_predict_result[i] == y_train[i]:\n",
    "        y_train_accuracy += 1\n",
    "\n",
    "for i in range (len(y_test_predict)):\n",
    "    if y_test_predict[i] >= 0.5:\n",
    "        y_test_predict_result.append(1)\n",
    "    else:\n",
    "        y_test_predict_result.append(0)\n",
    "    \n",
    "    if y_test_predict_result[i] == y_test[i]:\n",
    "        y_test_accuracy += 1"
   ]
  },
  {
   "cell_type": "code",
   "execution_count": 14,
   "metadata": {},
   "outputs": [
    {
     "data": {
      "text/plain": [
       "[<matplotlib.lines.Line2D at 0x11ee45580>]"
      ]
     },
     "execution_count": 14,
     "metadata": {},
     "output_type": "execute_result"
    },
    {
     "data": {
      "image/png": "[encoded data removed]",
      "text/plain": [
       "<Figure size 432x288 with 1 Axes>"
      ]
     },
     "metadata": {
      "needs_background": "light"
     },
     "output_type": "display_data"
    }
   ],
   "source": [
    "plt.plot(x_train, y_train, '.', color=\"blue\")\n",
    "plt.plot(x_train, y_train_predict_result, '.', color=\"orange\")"
   ]
  },
  {
   "cell_type": "code",
   "execution_count": 15,
   "metadata": {},
   "outputs": [
    {
     "data": {
      "text/plain": [
       "[<matplotlib.lines.Line2D at 0x11eea3ac0>]"
      ]
     },
     "execution_count": 15,
     "metadata": {},
     "output_type": "execute_result"
    },
    {
     "data": {
      "image/png": "[encoded data removed]",
      "text/plain": [
       "<Figure size 432x288 with 1 Axes>"
      ]
     },
     "metadata": {
      "needs_background": "light"
     },
     "output_type": "display_data"
    }
   ],
   "source": [
    "plt.plot(x_test, y_test, '.', color=\"blue\")\n",
    "plt.plot(x_test, y_test_predict_result, '.', color=\"orange\")"
   ]
  },
  {
   "cell_type": "code",
   "execution_count": 16,
   "metadata": {},
   "outputs": [
    {
     "name": "stdout",
     "output_type": "stream",
     "text": [
      "0.9533333333333334\n",
      "0.968\n"
     ]
    }
   ],
   "source": [
    "print(y_train_accuracy/len(y_train))\n",
    "print(y_test_accuracy/len(y_test))"
   ]
  }
 ],
 "metadata": {
  "kernelspec": {
   "display_name": "Python 3.9.12 64-bit",
   "language": "python",
   "name": "python3"
  },
  "language_info": {
   "codemirror_mode": {
    "name": "ipython",
    "version": 3
   },
   "file_extension": ".py",
   "mimetype": "text/x-python",
   "name": "python",
   "nbconvert_exporter": "python",
   "pygments_lexer": "ipython3",
   "version": "3.10.8"
  },
  "vscode": {
   "interpreter": {
    "hash": "b0fa6594d8f4cbf19f97940f81e996739fb7646882a419484c72d19e05852a7e"
   }
  }
 },
 "nbformat": 4,
 "nbformat_minor": 4
}
