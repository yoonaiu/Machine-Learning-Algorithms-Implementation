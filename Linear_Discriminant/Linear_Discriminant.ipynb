{
 "cells": [
  {
   "cell_type": "markdown",
   "metadata": {},
   "source": [
    "## HW2: Linear Discriminant Analysis\n",
    "In hw2, you need to implement [Fisher’s linear discriminant](https://towardsdatascience.com/fishers-linear-discriminant-intuitively-explained-52a1ba79e1bb) by using only numpy, then train your implemented model by the provided dataset and test the performance with testing data\n",
    "\n",
    "Please note that only **NUMPY** can be used to implement your model, you will get **zero point** by simply calling `sklearn.discriminant_analysis.LinearDiscriminantAnalysis` "
   ]
  },
  {
   "cell_type": "markdown",
   "metadata": {},
   "source": [
    "## Load data"
   ]
  },
  {
   "cell_type": "code",
   "execution_count": 25,
   "metadata": {},
   "outputs": [],
   "source": [
    "import numpy as np\n",
    "import matplotlib.pyplot as plt"
   ]
  },
  {
   "cell_type": "code",
   "execution_count": 26,
   "metadata": {},
   "outputs": [],
   "source": [
    "x_train, x_test, y_train, y_test = np.load('classification_data.npy', allow_pickle=True)"
   ]
  },
  {
   "cell_type": "code",
   "execution_count": 27,
   "metadata": {},
   "outputs": [
    {
     "name": "stdout",
     "output_type": "stream",
     "text": [
      "(3750, 2)\n",
      "(3750,)\n",
      "(1250, 2)\n",
      "(1250,)\n"
     ]
    }
   ],
   "source": [
    "print(x_train.shape)\n",
    "print(y_train.shape)\n",
    "print(x_test.shape)\n",
    "print(y_test.shape)"
   ]
  },
  {
   "cell_type": "code",
   "execution_count": 28,
   "metadata": {},
   "outputs": [],
   "source": [
    "x1 = []\n",
    "y1 = []\n",
    "x2 = []\n",
    "y2 = []\n",
    "n1 = 0  # class 1 number\n",
    "n2 = 0  # class 2 number\n",
    "\n",
    "for i in range(len(y_train)):\n",
    "    if(y_train[i] == 0):\n",
    "        x1.append(x_train[i][0])\n",
    "        y1.append(x_train[i][1])\n",
    "        n1 += 1\n",
    "    elif(y_train[i] == 1):\n",
    "        x2.append(x_train[i][0])\n",
    "        y2.append(x_train[i][1])\n",
    "        n2 += 1"
   ]
  },
  {
   "cell_type": "code",
   "execution_count": 29,
   "metadata": {},
   "outputs": [
    {
     "data": {
      "text/plain": [
       "[<matplotlib.lines.Line2D at 0x118874d00>]"
      ]
     },
     "execution_count": 29,
     "metadata": {},
     "output_type": "execute_result"
    },
    {
     "data": {
      "image/png": "[encoded data removed]",
      "text/plain": [
       "<Figure size 432x288 with 1 Axes>"
      ]
     },
     "metadata": {
      "needs_background": "light"
     },
     "output_type": "display_data"
    }
   ],
   "source": [
    "plt.plot(x1, y1, \".\", color=\"blue\")\n",
    "plt.plot(x2, y2, \".\", color=\"red\")"
   ]
  },
  {
   "cell_type": "markdown",
   "metadata": {},
   "source": [
    "## 1. Compute the mean vectors mi, (i=1,2) of each 2 classes"
   ]
  },
  {
   "cell_type": "code",
   "execution_count": 30,
   "metadata": {},
   "outputs": [],
   "source": [
    "## Your code HERE\n",
    "# mean_vector = [sum(x1)/len(x1), sum(x2)/len(x2)]\n",
    "# print(mean_vector)\n",
    "m1 = np.array([sum(x1)/len(x1), sum(y1)/len(y1)])\n",
    "m2 = np.array([sum(x2)/len(x2), sum(y2)/len(y2)])"
   ]
  },
  {
   "cell_type": "code",
   "execution_count": 31,
   "metadata": {},
   "outputs": [
    {
     "name": "stdout",
     "output_type": "stream",
     "text": [
      "mean vector of class 1: [ 0.99253136 -0.99115481]\n",
      " mean vector of class 2: [-0.9888012   1.00522778]\n"
     ]
    }
   ],
   "source": [
    "print(f\"mean vector of class 1: {m1}\\n\", f\"mean vector of class 2: {m2}\")"
   ]
  },
  {
   "cell_type": "markdown",
   "metadata": {},
   "source": [
    "## 2. Compute the Within-class scatter matrix SW"
   ]
  },
  {
   "cell_type": "code",
   "execution_count": 32,
   "metadata": {},
   "outputs": [
    {
     "name": "stdout",
     "output_type": "stream",
     "text": [
      "<class 'numpy.ndarray'>\n",
      "(2, 1)\n",
      "[[ 4.08048545 -1.40378116]\n",
      " [-1.40378116  0.48293311]]\n"
     ]
    }
   ],
   "source": [
    "xm = x_train[0] - m1\n",
    "xm = np.reshape(xm, (2, 1))\n",
    "print(type(xm))\n",
    "print(xm.shape)\n",
    "\n",
    "print((xm).dot(xm.transpose()))  # 2*1 1*2 -> 2*2"
   ]
  },
  {
   "cell_type": "code",
   "execution_count": 33,
   "metadata": {},
   "outputs": [],
   "source": [
    "## Your code HERE\n",
    "\n",
    "sw = np.zeros((2, 2))\n",
    "\n",
    "for i in range(len(x_train)):\n",
    "\n",
    "    if y_train[i] == 0:\n",
    "        c1_mat = np.reshape((x_train[i] - m1), (2, 1))\n",
    "        sw += c1_mat.dot(c1_mat.transpose())\n",
    "\n",
    "    elif y_train[i] == 1:\n",
    "        c2_mat = np.reshape((x_train[i] - m2), (2, 1))\n",
    "        sw += c2_mat.dot(c2_mat.transpose())"
   ]
  },
  {
   "cell_type": "code",
   "execution_count": 34,
   "metadata": {},
   "outputs": [
    {
     "name": "stdout",
     "output_type": "stream",
     "text": [
      "Within-class scatter matrix SW: [[ 4337.38546493 -1795.55656547]\n",
      " [-1795.55656547  2834.75834886]]\n"
     ]
    }
   ],
   "source": [
    "print(f\"Within-class scatter matrix SW: {sw}\")"
   ]
  },
  {
   "cell_type": "markdown",
   "metadata": {},
   "source": [
    "## 3.  Compute the Between-class scatter matrix SB"
   ]
  },
  {
   "cell_type": "code",
   "execution_count": 35,
   "metadata": {},
   "outputs": [],
   "source": [
    "## Your code HERE\n",
    "# print(m2-m1)\n",
    "m2_minus_m1 = np.reshape((m2-m1), (2, 1))\n",
    "sb = m2_minus_m1.dot(m2_minus_m1.transpose())"
   ]
  },
  {
   "cell_type": "code",
   "execution_count": 36,
   "metadata": {},
   "outputs": [
    {
     "name": "stdout",
     "output_type": "stream",
     "text": [
      "Between-class scatter matrix SB: [[ 3.92567873 -3.95549783]\n",
      " [-3.95549783  3.98554344]]\n"
     ]
    }
   ],
   "source": [
    "print(f\"Between-class scatter matrix SB: {sb}\")"
   ]
  },
  {
   "cell_type": "markdown",
   "metadata": {},
   "source": [
    "## 4. Compute the Fisher’s linear discriminant"
   ]
  },
  {
   "cell_type": "code",
   "execution_count": 37,
   "metadata": {},
   "outputs": [],
   "source": [
    "## Your code HERE\n",
    "w = (np.linalg.inv(sw)).dot(m2_minus_m1)"
   ]
  },
  {
   "cell_type": "code",
   "execution_count": 38,
   "metadata": {},
   "outputs": [
    {
     "name": "stdout",
     "output_type": "stream",
     "text": [
      " Fisher’s linear discriminant: [[-0.000224  ]\n",
      " [ 0.00056237]]\n"
     ]
    }
   ],
   "source": [
    "print(f\" Fisher’s linear discriminant: {w}\")"
   ]
  },
  {
   "cell_type": "code",
   "execution_count": 39,
   "metadata": {},
   "outputs": [
    {
     "name": "stdout",
     "output_type": "stream",
     "text": [
      "-0.00022399822698344142\n",
      "0.0005623693114442301\n"
     ]
    }
   ],
   "source": [
    "print(w[0][0])\n",
    "print(w[1][0])"
   ]
  },
  {
   "cell_type": "code",
   "execution_count": 40,
   "metadata": {},
   "outputs": [],
   "source": [
    "w = w # -> w 的倍數好像不影響還是怎麼樣的\n",
    "\n",
    "c1_p = [] # n1 * 1\n",
    "c1_y = [] # n2 * 1\n",
    "for i in range(len(x1)):\n",
    "    c1_p.append(x1[i]*w[0][0] + y1[i]*w[1][0])\n",
    "    c1_y.append(0)\n",
    "\n",
    "c2_p = []\n",
    "c2_y = []\n",
    "for i in range(len(x2)):\n",
    "    c2_p.append(x2[i]*w[0][0] + y2[i]*w[1][0])\n",
    "    c2_y.append(1)"
   ]
  },
  {
   "cell_type": "code",
   "execution_count": 41,
   "metadata": {},
   "outputs": [
    {
     "data": {
      "text/plain": [
       "[<matplotlib.lines.Line2D at 0x11f3ad8b0>]"
      ]
     },
     "execution_count": 41,
     "metadata": {},
     "output_type": "execute_result"
    },
    {
     "data": {
      "image/png": "[encoded data removed]",
      "text/plain": [
       "<Figure size 432x288 with 1 Axes>"
      ]
     },
     "metadata": {
      "needs_background": "light"
     },
     "output_type": "display_data"
    }
   ],
   "source": [
    "plt.plot(c1_p, c1_y, \".\", color=\"red\")\n",
    "plt.plot(c2_p, c2_y, \".\", color=\"blue\")"
   ]
  },
  {
   "cell_type": "markdown",
   "metadata": {},
   "source": [
    "## 5. Project the test data by linear discriminant and get the class prediction by `K` nearest-neighbor rule. Please report the accuracy score with `K` values from 1 to 5\n",
    "you can use `accuracy_score` function from `sklearn.metric.accuracy_score`"
   ]
  },
  {
   "cell_type": "code",
   "execution_count": 42,
   "metadata": {},
   "outputs": [],
   "source": [
    "def k_neighbor(k, project_1d, space_1d):\n",
    "    dis = []\n",
    "    for i in space_1d:\n",
    "        dis.append((project_1d - i))\n",
    "\n",
    "    dis = np.absolute(dis)\n",
    "\n",
    "    mink_class = []\n",
    "    for i in range (k):\n",
    "        min_id = np.argmin(dis)\n",
    "        mink_class.append(y_train[min_id])\n",
    "        dis[min_id] = 1e10\n",
    "    \n",
    "    vote_result = np.sum(mink_class)\n",
    "    if vote_result > k/2:  # more than half vote for class 1 so that sum is greater than k*1/2\n",
    "        return 1\n",
    "    else:\n",
    "        return 0  # 如果同票，也就是 vote_result == k/2 -> 分給 class0\n"
   ]
  },
  {
   "cell_type": "code",
   "execution_count": 62,
   "metadata": {},
   "outputs": [],
   "source": [
    "# 先 project x_train to the 1 維空間\n",
    "# 再 project x_test to that same 1 維空間\n",
    "# 計算 x_train 最近的 k 個點，看那 k 個點多數決該 x_test 的 y 應該是 class 1 還是 class 2\n",
    "space_1d = []\n",
    "for i in x_train:\n",
    "    space_1d.append(i[0]*w[0][0] + i[1]*w[1][0])\n",
    "\n",
    "\n",
    "k = 5\n",
    "y_pred = []\n",
    "\n",
    "for i in x_test:\n",
    "    project_1d = i[0]*w[0][0] + i[1]*w[1][0]\n",
    "    y_pred.append(k_neighbor(k, project_1d, space_1d))\n"
   ]
  },
  {
   "cell_type": "code",
   "execution_count": 50,
   "metadata": {},
   "outputs": [],
   "source": [
    "def accuracy_score(y_test, y_pred):\n",
    "    correct = 0\n",
    "    for i in range(len(y_test)):\n",
    "        if y_test[i] == y_pred[i]:\n",
    "            correct += 1\n",
    "    return correct / len(y_test)"
   ]
  },
  {
   "cell_type": "code",
   "execution_count": 63,
   "metadata": {},
   "outputs": [],
   "source": [
    "acc = accuracy_score(y_test, y_pred)"
   ]
  },
  {
   "cell_type": "code",
   "execution_count": 64,
   "metadata": {},
   "outputs": [
    {
     "name": "stdout",
     "output_type": "stream",
     "text": [
      "Accuracy of test-set 0.8912\n"
     ]
    }
   ],
   "source": [
    "print(f\"Accuracy of test-set {acc}\")"
   ]
  },
  {
   "cell_type": "markdown",
   "metadata": {},
   "source": [
    "## 6. Plot the 1) best projection line on the training data and show the slope and intercept on the title (you can choose any value of intercept for better visualization) 2) colorize the data with each class 3) project all data points on your projection line. Your result should look like [this image](https://i.imgur.com/tubMQpw.jpg)"
   ]
  },
  {
   "cell_type": "code",
   "execution_count": 47,
   "metadata": {},
   "outputs": [
    {
     "name": "stdout",
     "output_type": "stream",
     "text": [
      "-0.00022399822698344142\n",
      "0.0005623693114442301\n"
     ]
    }
   ],
   "source": [
    "print(w[0][0])\n",
    "print(w[1][0])\n",
    "\n",
    "a = w[0][0]\n",
    "b = w[1][0]"
   ]
  },
  {
   "cell_type": "code",
   "execution_count": 48,
   "metadata": {},
   "outputs": [
    {
     "data": {
      "image/png": "[encoded data removed]",
      "text/plain": [
       "<Figure size 432x288 with 1 Axes>"
      ]
     },
     "metadata": {
      "needs_background": "light"
     },
     "output_type": "display_data"
    }
   ],
   "source": [
    "# 平行\n",
    "\n",
    "m = (w[1][0] * 1000) / (w[0][0] * 1000)\n",
    "\n",
    "p_c1_x = []\n",
    "p_c1_y = []\n",
    "p_c2_x = []\n",
    "p_c2_y = []\n",
    "\n",
    "for i in range(len(x1)):\n",
    "    # t = (-a*x1[i] -b*y1[i])/(a*a + b*b)\n",
    "    # t = (b*x1[i] - a*y1[i]) / (a*a + b*b)\n",
    "    # t = (y1[i] - m*x1[i]) / (m*a + b)\n",
    "    t = (b*x1[i] - a*y1[i])/(a*a + b*b)\n",
    "    px = x1[i] + t*(-b)\n",
    "    py = y1[i] + t*a\n",
    "    p_c1_x.append(px)\n",
    "    p_c1_y.append(py)\n",
    "\n",
    "    plt.plot([x1[i], px], [y1[i], py], color=\"blue\", linewidth=0.1)\n",
    "\n",
    "for i in range(len(x2)):\n",
    "    # t = (-a*x2[i] -b*y2[i])/(a*a + b*b)\n",
    "    # t = (b*x2[i] - a*y2[i]) / (a*a + b*b)\n",
    "    t = (b*x2[i] - a*y2[i])/(a*a + b*b)\n",
    "    px = x2[i] + t*(-b)\n",
    "    py = y2[i] + t*a\n",
    "    p_c2_x.append(px)\n",
    "    p_c2_y.append(py)\n",
    "\n",
    "    plt.plot([x2[i], px], [y2[i], py], color=\"red\", linewidth=0.1)\n",
    "\n",
    "s = 2.1\n",
    "plt.plot([-s, s], [-s*m, s*m], color=\"green\")\n",
    "# plt.plot(x1, y1, \".\", color=\"blue\")\n",
    "# plt.plot(x2, y2, \".\", color=\"red\")\n",
    "\n",
    "# plt.plot(p_c1_x, p_c1_y, \".\", color=\"blue\")\n",
    "# plt.plot(p_c2_x, p_c2_y, \".\", color=\"red\")\n",
    "\n",
    "plt.scatter(x1, y1, s=1, marker='o',edgecolors='b')\n",
    "plt.scatter(x2, y2, s=1, marker='o',edgecolors='r')\n",
    "plt.scatter(p_c1_x, p_c1_y, s=1, marker='o',edgecolors='b')\n",
    "plt.scatter(p_c2_x, p_c2_y, s=1, marker='o',edgecolors='r')\n",
    "\n",
    "title = \"Projection Line: w = \" + str(m) + \", b = 0\"\n",
    "\n",
    "plt.title(title) \n",
    "\n",
    "plt.show()"
   ]
  }
 ],
 "metadata": {
  "kernelspec": {
   "display_name": "Python 3.9.15 64-bit",
   "language": "python",
   "name": "python3"
  },
  "language_info": {
   "codemirror_mode": {
    "name": "ipython",
    "version": 3
   },
   "file_extension": ".py",
   "mimetype": "text/x-python",
   "name": "python",
   "nbconvert_exporter": "python",
   "pygments_lexer": "ipython3",
   "version": "3.9.15"
  },
  "vscode": {
   "interpreter": {
    "hash": "a665b5d41d17b532ea9890333293a1b812fa0b73c9c25c950b3cedf1bebd0438"
   }
  }
 },
 "nbformat": 4,
 "nbformat_minor": 4
}
