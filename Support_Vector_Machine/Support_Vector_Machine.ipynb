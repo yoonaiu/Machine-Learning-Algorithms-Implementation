{
 "cells": [
  {
   "cell_type": "code",
   "execution_count": 1,
   "metadata": {},
   "outputs": [],
   "source": [
    "import numpy as np\n",
    "import pandas as pd\n",
    "from sklearn.svm import SVC, SVR\n",
    "from sklearn.metrics import accuracy_score"
   ]
  },
  {
   "cell_type": "markdown",
   "metadata": {},
   "source": [
    "## Load data"
   ]
  },
  {
   "cell_type": "code",
   "execution_count": 2,
   "metadata": {},
   "outputs": [],
   "source": [
    "x_train = np.load(\"x_train.npy\")\n",
    "y_train = np.load(\"y_train.npy\")\n",
    "x_test = np.load(\"x_test.npy\")\n",
    "# y_test = np.load(\"y_test.npy\")"
   ]
  },
  {
   "cell_type": "code",
   "execution_count": 3,
   "metadata": {},
   "outputs": [
    {
     "name": "stdout",
     "output_type": "stream",
     "text": [
      "(7000, 300)\n",
      "(7000,)\n"
     ]
    }
   ],
   "source": [
    "# 7000 data with 300 features\n",
    "print(x_train.shape)\n",
    "print(y_train.shape)"
   ]
  },
  {
   "cell_type": "code",
   "execution_count": 4,
   "metadata": {},
   "outputs": [
    {
     "name": "stdout",
     "output_type": "stream",
     "text": [
      "[0 1]\n"
     ]
    }
   ],
   "source": [
    "# It's a binary classification problem \n",
    "print(np.unique(y_train))"
   ]
  },
  {
   "cell_type": "markdown",
   "metadata": {},
   "source": [
    "## Question 1\n",
    "K-fold data partition: Implement the K-fold cross-validation function. Your function should take K as an argument and return a list of lists (len(list) should equal to K), which contains K elements. Each element is a list contains two parts, the first part contains the index of all training folds, e.g. Fold 2 to Fold 5 in split 1. The second part contains the index of validation fold, e.g. Fold 1 in  split 1"
   ]
  },
  {
   "cell_type": "code",
   "execution_count": 5,
   "metadata": {},
   "outputs": [],
   "source": [
    "def cross_validation(x_train, y_train, k=5):\n",
    "    kfold_data_id = []\n",
    "    id_set = []\n",
    "    data_length = x_train.shape[0]\n",
    "    for i in range (data_length):\n",
    "        id_set.append(i)\n",
    "    id_set = np.array(id_set)\n",
    "    np.random.shuffle(id_set)\n",
    "    # print(\"id_set: \", id_set)\n",
    "    left_number = data_length % k\n",
    "    fold_size = data_length // k\n",
    "    start = 0\n",
    "    end = 0\n",
    "    for i in range(1, k+1, 1):\n",
    "        each_fold = []\n",
    "        # 找出每次當 validation 的區間，區間以外的是 train\n",
    "        # start = int((i-1) * data_length/k)\n",
    "        # end = int((i) * data_length/k)\n",
    "        if(left_number > 0):\n",
    "            end = start + fold_size + 1\n",
    "            left_number -= 1\n",
    "        else:\n",
    "            end = start + fold_size\n",
    "\n",
    "        # print(\"start, end: \", start, \", \", end)\n",
    "        each_fold.append(np.sort(np.append(id_set[0:start], id_set[end:])))  # train\n",
    "        each_fold.append(np.sort(id_set[start:end]))  # validation\n",
    "        # print(\"Split: %s, Training index: %s, Validation index: %s\" % (i, each_fold[0], each_fold[1]))\n",
    "        kfold_data_id.append(each_fold)\n",
    "        start = end\n",
    "    \n",
    "    return kfold_data_id"
   ]
  },
  {
   "cell_type": "code",
   "execution_count": 6,
   "metadata": {},
   "outputs": [],
   "source": [
    "X = np.arange(20)\n",
    "kfold_data = cross_validation(X, None, k=5) # k = 10 (original)"
   ]
  },
  {
   "cell_type": "code",
   "execution_count": 7,
   "metadata": {},
   "outputs": [],
   "source": [
    "kfold_data = cross_validation(x_train, y_train, k=10)\n",
    "assert len(kfold_data) == 10 # should contain 10 fold of data\n",
    "assert len(kfold_data[0]) == 2 # each element should contain train fold and validation fold\n",
    "assert kfold_data[0][1].shape[0] == 700 # The number of data in each validation fold should equal to training data divieded by K"
   ]
  },
  {
   "cell_type": "code",
   "execution_count": null,
   "metadata": {},
   "outputs": [],
   "source": [
    "for i in range(len(kfold_data)):\n",
    "    print(\"Split: %s, Training index: %s, Validation index: %s\" % (i+1, kfold_data[i][0], kfold_data[i][1]))"
   ]
  },
  {
   "cell_type": "markdown",
   "metadata": {},
   "source": [
    "## example"
   ]
  },
  {
   "cell_type": "code",
   "execution_count": 9,
   "metadata": {},
   "outputs": [
    {
     "name": "stdout",
     "output_type": "stream",
     "text": [
      "Split: 1, Training index: [ 0  1  5  6  7  8 10 11 12 13 14 15 16 17 18 19], Validation index: [2 3 4 9]\n",
      "Split: 2, Training index: [ 1  2  3  4  5  6  7  8  9 10 11 12 15 17 18 19], Validation index: [ 0 13 14 16]\n",
      "Split: 3, Training index: [ 0  1  2  3  4  6  7  8  9 12 13 14 15 16 17 18], Validation index: [ 5 10 11 19]\n",
      "Split: 4, Training index: [ 0  1  2  3  4  5  7  8  9 10 11 13 14 16 17 19], Validation index: [ 6 12 15 18]\n",
      "Split: 5, Training index: [ 0  2  3  4  5  6  9 10 11 12 13 14 15 16 18 19], Validation index: [ 1  7  8 17]\n"
     ]
    }
   ],
   "source": [
    "from sklearn.model_selection import KFold\n",
    "\n",
    "X = np.arange(20)\n",
    "kf = KFold(n_splits=5, shuffle=True)\n",
    "kfold_data= []\n",
    "for i, (train_index, val_index) in enumerate(kf.split(X)):\n",
    "    print(\"Split: %s, Training index: %s, Validation index: %s\" % (i+1, train_index, val_index))\n",
    "    kfold_data.append([train_index, val_index])"
   ]
  },
  {
   "cell_type": "code",
   "execution_count": 10,
   "metadata": {},
   "outputs": [],
   "source": [
    "assert len(kfold_data) == 5 # should contain 5 fold of data\n",
    "assert len(kfold_data[0]) == 2 # each element should contains index of training fold and validation fold\n",
    "assert kfold_data[0][1].shape[0] == 4 # The number of data in each validation fold should equal to training data divieded by K"
   ]
  },
  {
   "cell_type": "markdown",
   "metadata": {},
   "source": [
    "## Question 2\n",
    "Using sklearn.svm.SVC to train a classifier on the provided train set and conduct the grid search of “C” and “gamma” to find the best parameters by cross-validation."
   ]
  },
  {
   "cell_type": "code",
   "execution_count": 11,
   "metadata": {},
   "outputs": [],
   "source": [
    "clf = SVC(C=1.0, kernel='rbf', gamma=0.01)"
   ]
  },
  {
   "cell_type": "code",
   "execution_count": 12,
   "metadata": {},
   "outputs": [],
   "source": [
    "k = 5\n",
    "kfold_data = cross_validation(x_train, y_train, k)"
   ]
  },
  {
   "cell_type": "code",
   "execution_count": 13,
   "metadata": {},
   "outputs": [],
   "source": [
    "x_fold_train = []  # len = 5\n",
    "y_fold_train = []  # len = 5\n",
    "\n",
    "x_fold_val = []  # len = 5\n",
    "y_fold_val = []  # len = 5\n",
    "\n",
    "for i in range(5):\n",
    "    train_index = kfold_data[i][0]\n",
    "    x_single_fold = []\n",
    "    y_single_fold = []\n",
    "    for id in train_index:\n",
    "        x_single_fold.append(x_train[id, ])\n",
    "        y_single_fold.append(y_train[id, ])\n",
    "\n",
    "    x_single_fold = np.array(x_single_fold)\n",
    "    y_single_fold = np.array(y_single_fold)\n",
    "    x_fold_train.append(x_single_fold)\n",
    "    y_fold_train.append(y_single_fold)\n",
    "\n",
    "    val_index = kfold_data[i][1]\n",
    "    x_single_fold = []\n",
    "    y_single_fold = []\n",
    "    for id in val_index:\n",
    "        x_single_fold.append(x_train[id, ])\n",
    "        y_single_fold.append(y_train[id, ])\n",
    "\n",
    "    x_single_fold = np.array(x_single_fold)\n",
    "    y_single_fold = np.array(y_single_fold)\n",
    "    x_fold_val.append(x_single_fold)\n",
    "    y_fold_val.append(y_single_fold)"
   ]
  },
  {
   "cell_type": "code",
   "execution_count": 14,
   "metadata": {},
   "outputs": [
    {
     "name": "stdout",
     "output_type": "stream",
     "text": [
      "len(x_fold_train):  5  | len(y_fold_train):  5\n",
      "x_fold_train[0].shape:  (5600, 300)  | y_fold_train.shape:  (5600,)\n",
      "-----------------------------------------------------------------\n",
      "len(x_fold_val):  5  | len(y_fold_val):  5\n",
      "x_fold_val[0].shape:  (1400, 300)  | y_fold_val.shape:  (1400,)\n"
     ]
    }
   ],
   "source": [
    "print(\"len(x_fold_train): \", len(x_fold_train), \" | len(y_fold_train): \", len(y_fold_train))\n",
    "print(\"x_fold_train[0].shape: \", x_fold_train[0].shape, \" | y_fold_train.shape: \", y_fold_train[0].shape)\n",
    "print(\"-----------------------------------------------------------------\")\n",
    "print(\"len(x_fold_val): \", len(x_fold_val), \" | len(y_fold_val): \", len(y_fold_val))\n",
    "print(\"x_fold_val[0].shape: \", x_fold_val[0].shape, \" | y_fold_val.shape: \", y_fold_val[0].shape)"
   ]
  },
  {
   "cell_type": "code",
   "execution_count": 15,
   "metadata": {},
   "outputs": [],
   "source": [
    "from sklearn.metrics import accuracy_score"
   ]
  },
  {
   "cell_type": "code",
   "execution_count": 16,
   "metadata": {},
   "outputs": [
    {
     "name": "stdout",
     "output_type": "stream",
     "text": [
      "[[0.99357143 0.99257143 0.99085714 0.982      0.70414286 0.54914286\n",
      "  0.492      0.49171429]\n",
      " [0.99357143 0.99242857 0.99085714 0.98228571 0.736      0.55142857\n",
      "  0.49257143 0.49171429]\n",
      " [0.99357143 0.99242857 0.99085714 0.98214286 0.736      0.55142857\n",
      "  0.49257143 0.49171429]\n",
      " [0.99357143 0.99242857 0.99085714 0.98214286 0.736      0.55142857\n",
      "  0.49257143 0.49171429]\n",
      " [0.99357143 0.99242857 0.99085714 0.98214286 0.736      0.55142857\n",
      "  0.49257143 0.49171429]\n",
      " [0.99357143 0.99242857 0.99085714 0.98214286 0.736      0.55142857\n",
      "  0.49257143 0.49171429]\n",
      " [0.99357143 0.99242857 0.991      0.98214286 0.736      0.55142857\n",
      "  0.49257143 0.49171429]]\n"
     ]
    }
   ],
   "source": [
    "## your code\n",
    "# 1. 先決定 gamma & c\n",
    "# 2. loop 過去 gamma & c, 每一個 gamma & c 都對 split 出來的五組資料進行預測，預測完將五組資料的準確度做平均\n",
    "gamma = [0.0001, 0.0002, 0.0003, 0.0004, 0.0005, 0.0006, 0.0007, 0.0008]\n",
    "c = [1.0, 1.1, 1.2, 1.3, 1.4, 1.5, 1.6]\n",
    "acc = np.zeros((len(c), len(gamma)))\n",
    "\n",
    "best_gamma = None\n",
    "best_c = None\n",
    "best_acc = 0\n",
    "\n",
    "for i in range(len(gamma)):\n",
    "    for j in range(len(c)):\n",
    "        # train, predict, count for acc on each fold respectively\n",
    "        for id in range(k): # index for data set\n",
    "            clf = SVC(C=c[j], kernel='rbf', gamma=gamma[i]) # 每次都要用一個新的去 fit -> same model train for all fold on same para\n",
    "            clf.fit(x_fold_train[id], y_fold_train[id])\n",
    "            y_pred = clf.predict(x_fold_val[id])\n",
    "            acc[j][i] += accuracy_score(y_fold_val[id], y_pred)\n",
    "        acc[j][i] /= k\n",
    "        \n",
    "        if acc[j][i] > best_acc:\n",
    "            best_acc = acc[j][i]\n",
    "            best_gamma = gamma[i]\n",
    "            best_c = c[j]\n",
    "\n",
    "print(acc)       "
   ]
  },
  {
   "cell_type": "code",
   "execution_count": 21,
   "metadata": {},
   "outputs": [
    {
     "name": "stdout",
     "output_type": "stream",
     "text": [
      "best parameters: c:  1.0  , gamma:  0.0001\n"
     ]
    }
   ],
   "source": [
    "# print the best parameters I find\n",
    "print(\"best parameters: c: \", best_c, \" , gamma: \",best_gamma)"
   ]
  },
  {
   "cell_type": "markdown",
   "metadata": {},
   "source": [
    "## Question 3\n",
    "Plot the grid search results of your SVM. The x, y represents the hyperparameters of “gamma” and “C”, respectively. And the color represents the average score of validation folds\n",
    "You reults should be look like this reference image below ![image](https://miro.medium.com/max/1296/1*wGWTup9r4cVytB5MOnsjdQ.png) "
   ]
  },
  {
   "cell_type": "code",
   "execution_count": 22,
   "metadata": {},
   "outputs": [
    {
     "data": {
      "image/png": "[encoded data removed]",
      "text/plain": [
       "<Figure size 720x720 with 2 Axes>"
      ]
     },
     "metadata": {
      "needs_background": "light"
     },
     "output_type": "display_data"
    },
    {
     "name": "stdout",
     "output_type": "stream",
     "text": [
      "[[0.99357143 0.99257143 0.99085714 0.982      0.70414286 0.54914286\n",
      "  0.492      0.49171429]\n",
      " [0.99357143 0.99242857 0.99085714 0.98228571 0.736      0.55142857\n",
      "  0.49257143 0.49171429]\n",
      " [0.99357143 0.99242857 0.99085714 0.98214286 0.736      0.55142857\n",
      "  0.49257143 0.49171429]\n",
      " [0.99357143 0.99242857 0.99085714 0.98214286 0.736      0.55142857\n",
      "  0.49257143 0.49171429]\n",
      " [0.99357143 0.99242857 0.99085714 0.98214286 0.736      0.55142857\n",
      "  0.49257143 0.49171429]\n",
      " [0.99357143 0.99242857 0.99085714 0.98214286 0.736      0.55142857\n",
      "  0.49257143 0.49171429]\n",
      " [0.99357143 0.99242857 0.991      0.98214286 0.736      0.55142857\n",
      "  0.49257143 0.49171429]]\n"
     ]
    }
   ],
   "source": [
    "import matplotlib.pyplot as plt\n",
    "\n",
    "x_label = [0.0001, 0.0002, 0.0003, 0.0004, 0.0005, 0.0006, 0.0007, 0.0008] # gamma\n",
    "y_label = [1.0, 1.1, 1.2, 1.3, 1.4, 1.5, 1.6] # c\n",
    "\n",
    "fig, ax = plt.subplots(figsize=(10, 10))\n",
    "\n",
    "ax.set_xticks(np.arange(len(x_label)))\n",
    "ax.set_xticklabels(x_label)\n",
    "ax.set_yticks(np.arange(len(y_label)))\n",
    "ax.set_yticklabels(y_label)\n",
    "\n",
    "# j i\n",
    "# 0 0\n",
    "# 0 1\n",
    "for j in range(acc.shape[1]):  # col\n",
    "    for i in range(acc.shape[0]):  # row\n",
    "        text = ax.text(j, i, np.round(acc[i][j], 3), ha=\"center\", va=\"center\", color=\"red\")\n",
    "\n",
    "ax.set_title('Hyperparameter Gridsearch', fontsize=16)\n",
    "ax.set_ylabel('C Parameter', fontsize=12)\n",
    "ax.set_xlabel('Gamma Parameter', fontsize=12)\n",
    "\n",
    "plt.imshow(acc)\n",
    "plt.colorbar()\n",
    "plt.show()\n",
    "\n",
    "print(acc)"
   ]
  },
  {
   "cell_type": "markdown",
   "metadata": {},
   "source": [
    "## Question 4\n",
    "Train your SVM model by the best parameters you found from question 2 on the whole training set and evaluate the performance on the test set."
   ]
  },
  {
   "cell_type": "code",
   "execution_count": 23,
   "metadata": {},
   "outputs": [
    {
     "data": {
      "text/plain": [
       "SVC(gamma=0.0001)"
      ]
     },
     "execution_count": 23,
     "metadata": {},
     "output_type": "execute_result"
    }
   ],
   "source": [
    "best_model = SVC(C=best_c, kernel='rbf', gamma=best_gamma)\n",
    "best_model.fit(x_train, y_train)"
   ]
  },
  {
   "cell_type": "code",
   "execution_count": 25,
   "metadata": {},
   "outputs": [],
   "source": [
    "y_pred = best_model.predict(x_test)"
   ]
  },
  {
   "cell_type": "code",
   "execution_count": null,
   "metadata": {},
   "outputs": [],
   "source": [
    "print(\"Accuracy score: \", accuracy_score(y_pred, y_test))"
   ]
  }
 ],
 "metadata": {
  "kernelspec": {
   "display_name": "Python 3.9.15 64-bit",
   "language": "python",
   "name": "python3"
  },
  "language_info": {
   "codemirror_mode": {
    "name": "ipython",
    "version": 3
   },
   "file_extension": ".py",
   "mimetype": "text/x-python",
   "name": "python",
   "nbconvert_exporter": "python",
   "pygments_lexer": "ipython3",
   "version": "3.9.15"
  },
  "vscode": {
   "interpreter": {
    "hash": "a665b5d41d17b532ea9890333293a1b812fa0b73c9c25c950b3cedf1bebd0438"
   }
  }
 },
 "nbformat": 4,
 "nbformat_minor": 4
}
